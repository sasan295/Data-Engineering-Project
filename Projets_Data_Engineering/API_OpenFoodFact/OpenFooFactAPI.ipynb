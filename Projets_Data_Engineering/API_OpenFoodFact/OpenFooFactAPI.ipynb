{
  "cells": [
    {
      "cell_type": "code",
      "metadata": {
        "tags": [],
        "cell_id": "00000-fa2a745f-e79c-44e2-a0f9-3ac7f51a37a3",
        "deepnote_to_be_reexecuted": false,
        "source_hash": "9cd2b289",
        "execution_millis": 3,
        "execution_start": 1618311998241,
        "deepnote_cell_type": "code"
      },
      "source": "import requests\nimport json",
      "execution_count": 1,
      "outputs": []
    },
    {
      "cell_type": "code",
      "metadata": {
        "tags": [],
        "cell_id": "00002-e6bbf4b3-4d1b-4dc8-8309-186c5422fabd",
        "deepnote_to_be_reexecuted": false,
        "source_hash": "c8366568",
        "execution_millis": 3,
        "execution_start": 1618311998246,
        "deepnote_cell_type": "code"
      },
      "source": "def get_champ(key, obj, kcal):\n    if key in obj and obj[key] != \"\" :\n        return f\"{obj[key]} kcal\" if kcal else obj[key]\n    else:\n        return \"Not found\"\n\ndef get_product(barre_code):\n    response = requests.get(f'https://world.openfoodfacts.org/api/v0/product/{barre_code}.json')\n    response_product = response.json()\n\n    if 'product' not in response_product:\n        print(\"Product not found!\")\n        return False\n    \n    product = response_product['product']\n    name = get_champ('product_name', product, False)\n    description = get_champ('generic_name_fr', product, False)\n    nutriment = product['nutriments']\n    kcal_port = get_champ('energy-kcal_serving', nutriment, True)\n    kcal_100 = get_champ('energy-kcal_100g', nutriment, True)\n\n    print(f\"Nom : {name}.\")\n    print(f\"Description du produit : {description}.\")\n    print(f\"Energie en kCal d’une portion : {kcal_port}.\")\n    print(f\"Energie en kCal pour 100gr : {kcal_100}.\")",
      "execution_count": 2,
      "outputs": []
    },
    {
      "cell_type": "code",
      "metadata": {
        "tags": [],
        "cell_id": "00002-516994c8-a073-4fc2-a9fa-0a278cde3c91",
        "deepnote_to_be_reexecuted": false,
        "source_hash": "4230c2e3",
        "execution_millis": 463,
        "execution_start": 1618311998257,
        "deepnote_cell_type": "code"
      },
      "source": "get_product(\"3017620422003\")",
      "execution_count": 3,
      "outputs": [
        {
          "name": "stdout",
          "text": "Nom : Nutella.\nDescription du produit : Pâte à tartiner aux noisettes et au cacao.\nEnergie en kCal d’une portion : 80.8 kcal.\nEnergie en kCal pour 100gr : 539 kcal.\n",
          "output_type": "stream"
        }
      ]
    },
    {
      "cell_type": "code",
      "metadata": {
        "tags": [],
        "cell_id": "00003-c254e14c-d7e2-417b-9cce-e4c31ba19539",
        "deepnote_to_be_reexecuted": false,
        "source_hash": "239355b7",
        "execution_millis": 383,
        "execution_start": 1618311998718,
        "deepnote_cell_type": "code"
      },
      "source": "get_product(\"3168930007432\")",
      "execution_count": 4,
      "outputs": [
        {
          "name": "stdout",
          "text": "Nom : Chips barbecue.\nDescription du produit : Chips de pommes de terre saveur barbecue.\nEnergie en kCal d’une portion : 160 kcal.\nEnergie en kCal pour 100gr : 532 kcal.\n",
          "output_type": "stream"
        }
      ]
    },
    {
      "cell_type": "code",
      "metadata": {
        "tags": [],
        "cell_id": "00004-c5849acf-42fe-4d1d-b2ae-4baf4f7c415e",
        "deepnote_to_be_reexecuted": false,
        "source_hash": "8cf9c129",
        "execution_millis": 364,
        "execution_start": 1618311999068,
        "deepnote_cell_type": "code"
      },
      "source": "get_product(\"5050083501661\")",
      "execution_count": 5,
      "outputs": [
        {
          "name": "stdout",
          "text": "Nom : Trésor.\nDescription du produit : Not found.\nEnergie en kCal d’une portion : 135 kcal.\nEnergie en kCal pour 100gr : 450 kcal.\n",
          "output_type": "stream"
        }
      ]
    },
    {
      "cell_type": "code",
      "metadata": {
        "tags": [],
        "cell_id": "00004-330ea8e6-2c05-49bb-9a81-4c42810c15f8",
        "deepnote_to_be_reexecuted": false,
        "source_hash": "899f5915",
        "execution_millis": 432,
        "execution_start": 1618311999433,
        "deepnote_cell_type": "code"
      },
      "source": "get_product(\"3302740025136\")",
      "execution_count": 6,
      "outputs": [
        {
          "name": "stdout",
          "text": "Nom : LE JAMBON ZERO NITRITE - 4 tr.\nDescription du produit : Not found.\nEnergie en kCal d’une portion : Not found.\nEnergie en kCal pour 100gr : Not found.\n",
          "output_type": "stream"
        }
      ]
    },
    {
      "cell_type": "code",
      "source": "get_product(\"0737628064502\")",
      "metadata": {
        "tags": [],
        "cell_id": "00006-7735da86-2880-4ee4-b481-67b56ec6ae5d",
        "deepnote_to_be_reexecuted": false,
        "source_hash": "b81424b5",
        "execution_millis": 341,
        "execution_start": 1618311999830,
        "deepnote_cell_type": "code"
      },
      "outputs": [
        {
          "name": "stdout",
          "text": "Nom : Thai peanut noodle kit includes stir-fry rice noodles & thai peanut seasoning.\nDescription du produit : Not found.\nEnergie en kCal d’une portion : 200 kcal.\nEnergie en kCal pour 100gr : 385 kcal.\n",
          "output_type": "stream"
        }
      ],
      "execution_count": 7
    },
    {
      "cell_type": "markdown",
      "source": "<a style='text-decoration:none;line-height:16px;display:flex;color:#5B5B62;padding:10px;justify-content:end;' href='https://deepnote.com?utm_source=created-in-deepnote-cell&projectId=e941f27a-dfc2-482c-a8c3-1707e3c0f12f' target=\"_blank\">\n<img alt='Created in deepnote.com' style='display:inline;max-height:16px;margin:0px;margin-right:7.5px;' src='data:image/svg+xml;base64,PD94bWwgdmVyc2lvbj0iMS4wIiBlbmNvZGluZz0iVVRGLTgiPz4KPHN2ZyB3aWR0aD0iODBweCIgaGVpZ2h0PSI4MHB4IiB2aWV3Qm94PSIwIDAgODAgODAiIHZlcnNpb249IjEuMSIgeG1sbnM9Imh0dHA6Ly93d3cudzMub3JnLzIwMDAvc3ZnIiB4bWxuczp4bGluaz0iaHR0cDovL3d3dy53My5vcmcvMTk5OS94bGluayI+CiAgICA8IS0tIEdlbmVyYXRvcjogU2tldGNoIDU0LjEgKDc2NDkwKSAtIGh0dHBzOi8vc2tldGNoYXBwLmNvbSAtLT4KICAgIDx0aXRsZT5Hcm91cCAzPC90aXRsZT4KICAgIDxkZXNjPkNyZWF0ZWQgd2l0aCBTa2V0Y2guPC9kZXNjPgogICAgPGcgaWQ9IkxhbmRpbmciIHN0cm9rZT0ibm9uZSIgc3Ryb2tlLXdpZHRoPSIxIiBmaWxsPSJub25lIiBmaWxsLXJ1bGU9ImV2ZW5vZGQiPgogICAgICAgIDxnIGlkPSJBcnRib2FyZCIgdHJhbnNmb3JtPSJ0cmFuc2xhdGUoLTEyMzUuMDAwMDAwLCAtNzkuMDAwMDAwKSI+CiAgICAgICAgICAgIDxnIGlkPSJHcm91cC0zIiB0cmFuc2Zvcm09InRyYW5zbGF0ZSgxMjM1LjAwMDAwMCwgNzkuMDAwMDAwKSI+CiAgICAgICAgICAgICAgICA8cG9seWdvbiBpZD0iUGF0aC0yMCIgZmlsbD0iIzAyNjVCNCIgcG9pbnRzPSIyLjM3NjIzNzYyIDgwIDM4LjA0NzY2NjcgODAgNTcuODIxNzgyMiA3My44MDU3NTkyIDU3LjgyMTc4MjIgMzIuNzU5MjczOSAzOS4xNDAyMjc4IDMxLjY4MzE2ODMiPjwvcG9seWdvbj4KICAgICAgICAgICAgICAgIDxwYXRoIGQ9Ik0zNS4wMDc3MTgsODAgQzQyLjkwNjIwMDcsNzYuNDU0OTM1OCA0Ny41NjQ5MTY3LDcxLjU0MjI2NzEgNDguOTgzODY2LDY1LjI2MTk5MzkgQzUxLjExMjI4OTksNTUuODQxNTg0MiA0MS42NzcxNzk1LDQ5LjIxMjIyODQgMjUuNjIzOTg0Niw0OS4yMTIyMjg0IEMyNS40ODQ5Mjg5LDQ5LjEyNjg0NDggMjkuODI2MTI5Niw0My4yODM4MjQ4IDM4LjY0NzU4NjksMzEuNjgzMTY4MyBMNzIuODcxMjg3MSwzMi41NTQ0MjUgTDY1LjI4MDk3Myw2Ny42NzYzNDIxIEw1MS4xMTIyODk5LDc3LjM3NjE0NCBMMzUuMDA3NzE4LDgwIFoiIGlkPSJQYXRoLTIyIiBmaWxsPSIjMDAyODY4Ij48L3BhdGg+CiAgICAgICAgICAgICAgICA8cGF0aCBkPSJNMCwzNy43MzA0NDA1IEwyNy4xMTQ1MzcsMC4yNTcxMTE0MzYgQzYyLjM3MTUxMjMsLTEuOTkwNzE3MDEgODAsMTAuNTAwMzkyNyA4MCwzNy43MzA0NDA1IEM4MCw2NC45NjA0ODgyIDY0Ljc3NjUwMzgsNzkuMDUwMzQxNCAzNC4zMjk1MTEzLDgwIEM0Ny4wNTUzNDg5LDc3LjU2NzA4MDggNTMuNDE4MjY3Nyw3MC4zMTM2MTAzIDUzLjQxODI2NzcsNTguMjM5NTg4NSBDNTMuNDE4MjY3Nyw0MC4xMjg1NTU3IDM2LjMwMzk1NDQsMzcuNzMwNDQwNSAyNS4yMjc0MTcsMzcuNzMwNDQwNSBDMTcuODQzMDU4NiwzNy43MzA0NDA1IDkuNDMzOTE5NjYsMzcuNzMwNDQwNSAwLDM3LjczMDQ0MDUgWiIgaWQ9IlBhdGgtMTkiIGZpbGw9IiMzNzkzRUYiPjwvcGF0aD4KICAgICAgICAgICAgPC9nPgogICAgICAgIDwvZz4KICAgIDwvZz4KPC9zdmc+' > </img>\nCreated in <span style='font-weight:600;margin-left:4px;'>Deepnote</span></a>",
      "metadata": {
        "tags": [],
        "created_in_deepnote_cell": true,
        "deepnote_cell_type": "markdown"
      }
    }
  ],
  "nbformat": 4,
  "nbformat_minor": 2,
  "metadata": {
    "orig_nbformat": 2,
    "deepnote": {
      "is_reactive": false
    },
    "deepnote_notebook_id": "60a9dccb-a645-4eb6-81e9-3a3a0f60945e",
    "deepnote_execution_queue": []
  }
}