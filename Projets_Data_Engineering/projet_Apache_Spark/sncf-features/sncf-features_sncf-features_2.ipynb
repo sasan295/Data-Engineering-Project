{
 "cells": [
  {
   "cell_type": "markdown",
   "metadata": {},
   "source": [
    "# import"
   ]
  },
  {
   "cell_type": "code",
   "execution_count": 9,
   "metadata": {},
   "outputs": [],
   "source": [
    "import pandas as pd\n",
    "import numpy as np\n",
    "import matplotlib.pyplot as plt\n",
    "import pyspark\n",
    "from pyspark.sql import SparkSession\n",
    "from statistics import mean "
   ]
  },
  {
   "cell_type": "code",
   "execution_count": 10,
   "metadata": {},
   "outputs": [
    {
     "name": "stdout",
     "output_type": "stream",
     "text": [
      "Spark is ready with CPU usage : 8\n"
     ]
    }
   ],
   "source": [
    "# create SparkSession\n",
    "spark = SparkSession.builder.master(\"local[*]\") \\\n",
    "                    .appName('SparkSNCF') \\\n",
    "                    .getOrCreate()\n",
    "\n",
    "# extract SparkContext\n",
    "sc = spark.sparkContext\n",
    "\n",
    "print('Spark is ready with CPU usage :', sc.defaultParallelism)"
   ]
  },
  {
   "cell_type": "markdown",
   "metadata": {},
   "source": [
    "# import data"
   ]
  },
  {
   "cell_type": "code",
   "execution_count": 11,
   "metadata": {},
   "outputs": [
    {
     "data": {
      "text/plain": [
       "./data/tarifs-tgv-par-od.csv MapPartitionsRDD[33] at textFile at <unknown>:0"
      ]
     },
     "execution_count": 11,
     "metadata": {},
     "output_type": "execute_result"
    }
   ],
   "source": [
    "table_prix = sc.textFile('./data/tarifs-tgv-par-od.csv')\n",
    "table_prix"
   ]
  },
  {
   "cell_type": "code",
   "execution_count": null,
   "metadata": {},
   "outputs": [],
   "source": []
  },
  {
   "cell_type": "code",
   "execution_count": 12,
   "metadata": {},
   "outputs": [],
   "source": [
    "table_prix_head = table_prix.take(1)\n",
    "table_prix_no_header = table_prix.filter(lambda row: row != table_prix_head[0])"
   ]
  },
  {
   "cell_type": "code",
   "execution_count": null,
   "metadata": {},
   "outputs": [],
   "source": []
  },
  {
   "cell_type": "code",
   "execution_count": 13,
   "metadata": {},
   "outputs": [
    {
     "name": "stdout",
     "output_type": "stream",
     "text": [
      "+--------------------+--------------------+------+\n",
      "|             origine|         destination|prix_1|\n",
      "+--------------------+--------------------+------+\n",
      "|               NIMES|        LILLE EUROPE| 184.0|\n",
      "|MOUTIERS SALINS B...|             QUIMPER| 190.0|\n",
      "|              LANDRY|             QUIMPER| 190.0|\n",
      "|  TGV HAUTE PICARDIE|                AGDE| 188.0|\n",
      "|  TGV HAUTE PICARDIE|                SETE| 188.0|\n",
      "|  PARIS GARE DE LYON|              TOULON| 166.0|\n",
      "|  PARIS GARE DE LYON|         MONTBELIARD| 119.0|\n",
      "| LIMOGES BENEDICTINS|AEROPORT CDG 2 TG...| 111.0|\n",
      "|         CHATEAUROUX|AEROPORT CDG 2 TG...|  86.0|\n",
      "|CHAMBERY CHALLES ...|           MASSY TGV| 136.0|\n",
      "|           MASSY TGV|AIX LES BAINS LE ...| 136.0|\n",
      "|AEROPORT CDG 2 TG...|AIX LES BAINS LE ...| 136.0|\n",
      "|          NICE VILLE|    CHALON SUR SAONE| 151.0|\n",
      "|             BELFORT|MONTBELIARD TGV-L...|  53.0|\n",
      "|MARSEILLE ST CHARLES|     LONS LE SAUNIER| 119.0|\n",
      "|     BESANCON VIOTTE|        LILLE EUROPE| 155.0|\n",
      "|      ANGERS ST LAUD|         NANCY VILLE| 148.0|\n",
      "|             LE MANS|PARIS MONTPARNASS...|  81.0|\n",
      "|             LE MANS|           MASSY TGV|  81.0|\n",
      "|AEROPORT CDG 2 TG...|         ALBERTVILLE| 154.0|\n",
      "+--------------------+--------------------+------+\n",
      "only showing top 20 rows\n",
      "\n"
     ]
    }
   ],
   "source": [
    "new_table_prix = table_prix_no_header.map(lambda line: tuple(line.split(';')[0:4:3])) \\\n",
    "                                     .map(lambda x: tuple(x[0].split('-', 1) + [float(x[1])])) \\\n",
    "                                     .map(lambda x : (x[0].strip(), x[1].strip(), x[2]))\n",
    "columns = [\"origine\",\"destination\",\"prix_1\"]\n",
    "df = spark.createDataFrame(data=new_table_prix, schema = columns)\n",
    "\n",
    "df.show()"
   ]
  },
  {
   "cell_type": "code",
   "execution_count": 14,
   "metadata": {},
   "outputs": [
    {
     "name": "stdout",
     "output_type": "stream",
     "text": [
      "184.0\n",
      "None\n",
      "134.0\n",
      "None\n"
     ]
    }
   ],
   "source": [
    "def itineraryPrice(station1, station2):\n",
    "    station1, station2 = station1.strip().upper(), station2.strip().upper()\n",
    "    tuple_prix = df.where(f\"(origine = '{station1}' AND destination = '{station2}' OR origine = '{station2}' AND destination = '{station1}')\").collect()\n",
    "    if tuple_prix == []:\n",
    "        return None\n",
    "    elif sum([row[2] in ('', 'nan', None) for row in tuple_prix]) > 0:\n",
    "        return None\n",
    "    else:\n",
    "        return mean([row[2] for row in tuple_prix])\n",
    "print(itineraryPrice(\"nimes\", \"LILLE EUROPE\"))\n",
    "print(itineraryPrice(\"nimes\", \"PALITA\"))\n",
    "print(itineraryPrice(\"TOURS\", \"LILLE FLANDRES\"))\n",
    "print(itineraryPrice('CULOZ', 'LIBOURNE'))"
   ]
  },
  {
   "cell_type": "code",
   "execution_count": 15,
   "metadata": {},
   "outputs": [
    {
     "data": {
      "text/plain": [
       "0                       Osséja\n",
       "1       Font-Romeu-Odeillo-Via\n",
       "2                       Planès\n",
       "3                        Sauto\n",
       "4                Thuès Carença\n",
       "                 ...          \n",
       "2862                La Barasse\n",
       "2863                Rosa Parks\n",
       "2864          Nice Pont Michel\n",
       "2865             Irigny Yvours\n",
       "2866            Le Bourget T11\n",
       "Name: gare, Length: 2863, dtype: object"
      ]
     },
     "execution_count": 15,
     "metadata": {},
     "output_type": "execute_result"
    }
   ],
   "source": [
    "df_gare_loc_sql = spark.read.option(\"delimiter\", \";\").option(\"header\",True).csv(\"./data/referentiel-gares-voyageurs.csv\")\n",
    "df_gare_loc_sql.createOrReplaceTempView(\"sncf_tgv_loc\")\n",
    "\n",
    "from geopy.distance import geodesic\n",
    "df_gare_loc = spark.sql(\"SELECT `Intitulé gare`, Latitude, Longitude FROM sncf_tgv_loc\")\n",
    "df_gare_loc_pd = df_gare_loc.toPandas()\n",
    "df_gare_loc_pd.dropna(inplace=True)\n",
    "pds = df_gare_loc_pd.apply(lambda x: (x[0], (float(x[1]), float(x[2]))), axis=1, result_type='expand')\n",
    "pds.columns = ['gare', 'coordonne']\n",
    "list_name_gare =  pds['gare']\n",
    "list_name_gare"
   ]
  },
  {
   "cell_type": "code",
   "execution_count": 68,
   "metadata": {},
   "outputs": [],
   "source": [
    "def coord_gps(gare):\n",
    "    origan_location = locator.geocode(gare)\n",
    "    try: \n",
    "        return (origan_location.latitude, origan_location.longitude)\n",
    "    except:\n",
    "        return (1,1)\n",
    "\n",
    "def distance(gares):\n",
    "    coord1 = coord_gps(gares[0])\n",
    "    coord2 = coord_gps(gares[1])\n",
    "    distance = geodesic(coord1, coord2)\n",
    "    return distance"
   ]
  },
  {
   "cell_type": "code",
   "execution_count": 31,
   "metadata": {},
   "outputs": [],
   "source": [
    "from geopy.geocoders import Nominatim\n",
    "locator = Nominatim(user_agent=\"my_geocoder\")\n",
    "from geopy.distance import geodesic"
   ]
  },
  {
   "cell_type": "code",
   "execution_count": 65,
   "metadata": {},
   "outputs": [],
   "source": [
    "origine_list = new_table_prix.map(lambda x: (x[0]))\n",
    "destination_list = new_table_prix.map(lambda x: (x[1]))\n",
    "set_origine = set(origine_list.collect())\n",
    "set_destination = set(destination_list.collect())\n",
    "final = set_origine.union(set_destination)\n",
    "list_coordonne = [coord_gps(gare) for gare in final]\n",
    "couple_gare_coor = tuple(zip(final, list_coordonne))\n",
    "data_gare = pd.DataFrame(couple_gare_coor, columns = ['gare', 'coordonne'])\n",
    "data_gare.set_index('gare', inplace=True)\n",
    "data_gare.at['PARIS NORD', 'coordonne'] = (48.881399, 2.357438)"
   ]
  },
  {
   "cell_type": "code",
   "execution_count": 166,
   "metadata": {},
   "outputs": [],
   "source": [
    "def distance(gares):\n",
    "    coord1 = data_gare.loc[gares[0]].values[0]\n",
    "    coord2 = data_gare.loc[gares[1]].values[0]\n",
    "    if (1,1) in (coord1, coord2):\n",
    "        return (gares[0],gares[1], gares[2], 0)\n",
    "    distance = geodesic(coord1, coord2).miles\n",
    "    if distance is None:\n",
    "        return (gares[0],gares[1], gares[2], 42)\n",
    "    return (gares[0],gares[1], gares[2], distance)\n",
    "\n",
    "\n",
    "table_prix_distance  = new_table_prix.map(distance)\n",
    "final_data = table_prix_distance.map(lambda x : (\"-\".join(x[0:2]), x[2], x[3]))\n",
    "#pandas_df = final_data.select(\"*\").toPandas()\n",
    "dfFromRDD2 = spark.createDataFrame(final_data).toDF('trajet', \"prix\", \"distance\")\n",
    "#df = spark.createDataFrame(data=final_data, schema=columns)"
   ]
  },
  {
   "cell_type": "code",
   "execution_count": 167,
   "metadata": {},
   "outputs": [],
   "source": [
    "dfFromRDD1 = dfFromRDD2.dropna(subset=['distance'])\n",
    "df = dfFromRDD1.toPandas().sort_values(\"distance\")"
   ]
  },
  {
   "cell_type": "code",
   "execution_count": 168,
   "metadata": {},
   "outputs": [
    {
     "data": {
      "text/plain": [
       "<AxesSubplot:xlabel='distance', ylabel='prix'>"
      ]
     },
     "execution_count": 168,
     "metadata": {},
     "output_type": "execute_result"
    },
    {
     "data": {
      "image/png": "[encoded data removed]",
      "text/plain": [
       "<Figure size 1080x720 with 1 Axes>"
      ]
     },
     "metadata": {
      "needs_background": "light"
     },
     "output_type": "display_data"
    }
   ],
   "source": [
    "df.plot(x=\"distance\",y=\"prix\", figsize=(15, 10), grid=True, xlabel=\"distance\", ylabel=\"prix\", logx=True)"
   ]
  },
  {
   "cell_type": "code",
   "execution_count": null,
   "metadata": {},
   "outputs": [],
   "source": [
    "#df.plot(x=\"trajet\", y=\"prix\", kind=\"barh\")"
   ]
  },
  {
   "cell_type": "code",
   "execution_count": 147,
   "metadata": {},
   "outputs": [
    {
     "data": {
      "text/plain": [
       "Column<b'prix'>"
      ]
     },
     "execution_count": 147,
     "metadata": {},
     "output_type": "execute_result"
    }
   ],
   "source": [
    "dfFromRDD1['prix']"
   ]
  }
 ],
 "metadata": {
  "kernelspec": {
   "display_name": "Python 3",
   "language": "python",
   "name": "python3"
  },
  "language_info": {
   "codemirror_mode": {
    "name": "ipython",
    "version": 3
   },
   "file_extension": ".py",
   "mimetype": "text/x-python",
   "name": "python",
   "nbconvert_exporter": "python",
   "pygments_lexer": "ipython3",
   "version": "3.8.5"
  }
 },
 "nbformat": 4,
 "nbformat_minor": 4
}
